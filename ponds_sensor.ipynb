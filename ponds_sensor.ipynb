{
 "cells": [
  {
   "cell_type": "code",
   "execution_count": 2,
   "metadata": {},
   "outputs": [],
   "source": [
    "import json\n",
    "from datetime import datetime\n",
    "from datetime import timedelta\n",
    "import numpy as np\n",
    "import pandas as pd\n",
    "from matplotlib import pyplot as plt\n",
    "from matplotlib import dates as mdates\n",
    "from firebase_admin import db\n",
    "from firebase_admin import credentials\n",
    "import pytz\n",
    "import data_generator\n",
    "import firebase"
   ]
  },
  {
   "cell_type": "code",
   "execution_count": 3,
   "metadata": {},
   "outputs": [],
   "source": [
    "with open('fb_key.json','r') as file:\n",
    "    fb_key = file.read()\n",
    "\n",
    "fb_app = firebase.login(fb_key)"
   ]
  },
  {
   "cell_type": "code",
   "execution_count": 4,
   "metadata": {},
   "outputs": [],
   "source": [
    "def to_datetime(dates, tz_aware=True):\n",
    "    \"\"\"\n",
    "    Standardizes the various types of string datetime formats\n",
    "    \"\"\"\n",
    "    dt = []\n",
    "    for i in dates:\n",
    "        i = i.replace('T','_')\n",
    "        i = i.replace('-','')\n",
    "        i = i.replace(' ', '_')\n",
    "        try:\n",
    "            i_dt = datetime.strptime(i, '%Y%m%d_%H:%M:%S')\n",
    "        except:\n",
    "            print(i)\n",
    "        if tz_aware:\n",
    "            tz = pytz.timezone('US/Eastern')\n",
    "            i_dt = tz.localize(i_dt)\n",
    "\n",
    "        dt.append(i_dt)\n",
    "    return np.array(dt)"
   ]
  },
  {
   "cell_type": "code",
   "execution_count": 7,
   "metadata": {},
   "outputs": [
    {
     "name": "stdout",
     "output_type": "stream",
     "text": [
      "[148, 51, 83, 133, 31]\n"
     ]
    }
   ],
   "source": [
    "# class ponds_sensors():\n",
    "\n",
    "#     def __init__(self,name):\n",
    "ref = db.reference('/LH_Farm/pond_1')\n",
    "data = ref.get()\n",
    "final_pressure=[]\n",
    "final_do = []\n",
    "final_temp = []\n",
    "\n",
    "for i in data:\n",
    "    pressure = data[i]['pressure']\n",
    "    do = data[i]['do']\n",
    "    temp = data[i]['temp']\n",
    "    high_pressure = max(pressure)\n",
    "    index_hp = pressure.index(high_pressure)\n",
    "    final_pressure.append(pressure[index_hp])\n",
    "    final_do.append(do[index_hp])\n",
    "    final_temp.append(temp[index_hp])\n",
    "\n",
    "pressure = np.array(final_pressure)\n",
    "do = np.array(final_do)\n",
    "temp = np.array(final_temp)\n",
    "d_dt = to_datetime(data)\n",
    "heading = np.array([(data[i]['heading']) for i in data])\n",
    "init_do = np.array([(data[i]['init_do']) for i in data])\n",
    "init_pressure = np.array([(data[i]['init_pressure']) for i in data])\n",
    "lat = np.array([(data[i]['lat']) for i in data])\n",
    "lng = np.array([(data[i]['lng']) for i in data])\n",
    "\n",
    "print(do)"
   ]
  }
 ],
 "metadata": {
  "kernelspec": {
   "display_name": "env-01",
   "language": "python",
   "name": "python3"
  },
  "language_info": {
   "codemirror_mode": {
    "name": "ipython",
    "version": 3
   },
   "file_extension": ".py",
   "mimetype": "text/x-python",
   "name": "python",
   "nbconvert_exporter": "python",
   "pygments_lexer": "ipython3",
   "version": "3.11.3"
  },
  "orig_nbformat": 4
 },
 "nbformat": 4,
 "nbformat_minor": 2
}
